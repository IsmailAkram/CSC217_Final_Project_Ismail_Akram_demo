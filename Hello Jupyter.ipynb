{
 "cells": [
  {
   "cell_type": "markdown",
   "id": "02a83e58",
   "metadata": {},
   "source": [
    "https://realpython.com/jupyter-notebook-introduction/#creating-a-notebook"
   ]
  },
  {
   "cell_type": "code",
   "execution_count": 1,
   "id": "c854fe2d",
   "metadata": {},
   "outputs": [
    {
     "name": "stdout",
     "output_type": "stream",
     "text": [
      "Hello Jupyter\n"
     ]
    }
   ],
   "source": [
    "print(\"Hello Jupyter\")"
   ]
  },
  {
   "cell_type": "markdown",
   "id": "7b5539c3",
   "metadata": {},
   "source": [
    "User single _underscores_ or single *asterisks* to get italics."
   ]
  },
  {
   "cell_type": "markdown",
   "id": "2c96fb39",
   "metadata": {},
   "source": [
    "Use __double underscores__ or **double asterisks** to bold your text."
   ]
  },
  {
   "cell_type": "markdown",
   "id": "702c5687",
   "metadata": {},
   "source": [
    "# Header 1\n",
    "## Header 2\n",
    "### Header 3"
   ]
  },
  {
   "cell_type": "markdown",
   "id": "32afabec",
   "metadata": {},
   "source": [
    "* item 1\n",
    "* item 2\n",
    "* item 3\n",
    "    * sub-item 1"
   ]
  },
  {
   "cell_type": "markdown",
   "id": "638d9d65",
   "metadata": {},
   "source": [
    "```python\n",
    "s = \"Synthax highlighting for Python\"\n",
    "print(x)\n",
    "```"
   ]
  },
  {
   "cell_type": "markdown",
   "id": "489367ab",
   "metadata": {},
   "source": [
    "Testing some Python Code of my own:"
   ]
  },
  {
   "cell_type": "code",
   "execution_count": null,
   "id": "db5db46d",
   "metadata": {},
   "outputs": [],
   "source": []
  }
 ],
 "metadata": {
  "kernelspec": {
   "display_name": "Python 3 (ipykernel)",
   "language": "python",
   "name": "python3"
  },
  "language_info": {
   "codemirror_mode": {
    "name": "ipython",
    "version": 3
   },
   "file_extension": ".py",
   "mimetype": "text/x-python",
   "name": "python",
   "nbconvert_exporter": "python",
   "pygments_lexer": "ipython3",
   "version": "3.8.6"
  }
 },
 "nbformat": 4,
 "nbformat_minor": 5
}
